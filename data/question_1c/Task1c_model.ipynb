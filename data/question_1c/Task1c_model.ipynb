{
 "cells": [
  {
   "cell_type": "code",
   "execution_count": 1,
   "id": "e6a6c00d",
   "metadata": {},
   "outputs": [],
   "source": [
    "import gurobipy as gp\n",
    "from gurobipy import GRB\n",
    "import json\n",
    "import pandas as pd\n",
    "import numpy as np"
   ]
  },
  {
   "cell_type": "code",
   "execution_count": 7,
   "id": "ba33b9bd",
   "metadata": {},
   "outputs": [],
   "source": [
    "with open(r\"C:\\Users\\Pulin\\Desktop\\Optimisation_PowerSystems_Assignment1\\data\\question_1c\\appliance_params.json\", \"r\") as f:\n",
    "    data = json.load(f)\n"
   ]
  },
  {
   "cell_type": "code",
   "execution_count": 27,
   "id": "c35cc368",
   "metadata": {},
   "outputs": [
    {
     "data": {
      "text/plain": [
       "{'DER': [{'DER_id': 'PV_01',\n",
       "   'DER_type': 'PV',\n",
       "   'max_power_kW': 3.0,\n",
       "   'min_power_ratio': 0.0,\n",
       "   'max_ramp_rate_up_ratio': 1.0,\n",
       "   'max_ramp_rate_down_ratio': 1.0}],\n",
       " 'load': [{'load_type': 'fully flexible load',\n",
       "   'load_id': 'FFL_01',\n",
       "   'max_load_kWh_per_hour': 3.0,\n",
       "   'min_load_ratio': 0.0,\n",
       "   'max_ramp_rate_up_ratio': 1.0,\n",
       "   'max_ramp_rate_down_ratio': 1.0,\n",
       "   'min_on_time_h': 0,\n",
       "   'min_off_time_h': 0}],\n",
       " 'storage': [{'storage_id': 'BESS_01',\n",
       "   'storage_capacity_kWh': 6.0,\n",
       "   'max_charging_power_ratio': 0.15,\n",
       "   'max_discharging_power_ratio': 0.3,\n",
       "   'charging_efficiency': 0.9,\n",
       "   'discharging_efficiency': 0.9}]}"
      ]
     },
     "execution_count": 27,
     "metadata": {},
     "output_type": "execute_result"
    }
   ],
   "source": [
    "data"
   ]
  },
  {
   "cell_type": "code",
   "execution_count": 30,
   "id": "bb673c96",
   "metadata": {},
   "outputs": [],
   "source": [
    "with open(r\"C:\\Users\\Pulin\\Desktop\\Optimisation_PowerSystems_Assignment1\\data\\question_1c\\bus_params.json\", \"r\") as f:\n",
    "    data2 = json.load(f)\n"
   ]
  },
  {
   "cell_type": "code",
   "execution_count": 31,
   "id": "cd3a111c",
   "metadata": {},
   "outputs": [
    {
     "data": {
      "text/plain": [
       "[{'bus_ID': 'Bus1',\n",
       "  'import_tariff_DKK/kWh': 0.5,\n",
       "  'export_tariff_DKK/kWh': 0.4,\n",
       "  'max_import_kW': 1000,\n",
       "  'max_export_kW': 500,\n",
       "  'penalty_excess_import_DKK/kWh': 10,\n",
       "  'penalty_excess_export_DKK/kWh': 10,\n",
       "  'energy_price_DKK_per_kWh': [1.1,\n",
       "   1.05,\n",
       "   1.0,\n",
       "   0.9,\n",
       "   0.85,\n",
       "   1.01,\n",
       "   1.05,\n",
       "   1.2,\n",
       "   1.4,\n",
       "   1.6,\n",
       "   1.5,\n",
       "   1.1,\n",
       "   1.05,\n",
       "   1.0,\n",
       "   0.95,\n",
       "   1.0,\n",
       "   1.2,\n",
       "   1.5,\n",
       "   2.1,\n",
       "   2.5,\n",
       "   2.2,\n",
       "   1.8,\n",
       "   1.4,\n",
       "   1.2]}]"
      ]
     },
     "execution_count": 31,
     "metadata": {},
     "output_type": "execute_result"
    }
   ],
   "source": [
    "data2"
   ]
  },
  {
   "cell_type": "code",
   "execution_count": 57,
   "id": "9db884ac",
   "metadata": {},
   "outputs": [],
   "source": [
    "def get_param(data, key, category=None, idx=0):\n",
    "    \"\"\"\n",
    "    General function to access a value from a (possibly nested) data dictionary.\n",
    "\n",
    "    Args:\n",
    "        data (dict or list): The loaded JSON dictionary or list of dicts.\n",
    "        key (str): The key to access.\n",
    "        category (str or None): The category (e.g., \"DER\", \"load\", \"storage\") if nested, else None.\n",
    "        idx (int): Index in the list (default 0).\n",
    "\n",
    "    Returns:\n",
    "        The value for the requested key, or None if not found.\n",
    "    \"\"\"\n",
    "    try:\n",
    "        if category:\n",
    "            return data[category][idx][key]\n",
    "        elif isinstance(data, list):\n",
    "            return data[idx][key]\n",
    "        else:\n",
    "            return data[key]\n",
    "    except (KeyError, IndexError, TypeError):\n",
    "        print(f\"Could not find {key} in {category}[{idx}]\" if category else f\"Could not find {key} in data[{idx}]\")\n",
    "        return None\n",
    "\n",
    "# Example usage:\n",
    "# get_param(data, \"max_power_kW\", category=\"DER\")\n",
    "# get_param(data, \"charging_efficiency\", category=\"storage\")\n",
    "# get_param(data2, \"energy_price_DKK_per_kWh\")  # if data2 is a list of dicts"
   ]
  },
  {
   "cell_type": "code",
   "execution_count": 59,
   "id": "01987159",
   "metadata": {},
   "outputs": [
    {
     "data": {
      "text/plain": [
       "[1.1,\n",
       " 1.05,\n",
       " 1.0,\n",
       " 0.9,\n",
       " 0.85,\n",
       " 1.01,\n",
       " 1.05,\n",
       " 1.2,\n",
       " 1.4,\n",
       " 1.6,\n",
       " 1.5,\n",
       " 1.1,\n",
       " 1.05,\n",
       " 1.0,\n",
       " 0.95,\n",
       " 1.0,\n",
       " 1.2,\n",
       " 1.5,\n",
       " 2.1,\n",
       " 2.5,\n",
       " 2.2,\n",
       " 1.8,\n",
       " 1.4,\n",
       " 1.2]"
      ]
     },
     "execution_count": 59,
     "metadata": {},
     "output_type": "execute_result"
    }
   ],
   "source": [
    "get_param(data, \"max_power_kW\", category=\"DER\")\n",
    "get_param(data2, \"energy_price_DKK_per_kWh\")  # if data2 is a list of dicts"
   ]
  }
 ],
 "metadata": {
  "kernelspec": {
   "display_name": "integrated-energy-grids",
   "language": "python",
   "name": "python3"
  },
  "language_info": {
   "codemirror_mode": {
    "name": "ipython",
    "version": 3
   },
   "file_extension": ".py",
   "mimetype": "text/x-python",
   "name": "python",
   "nbconvert_exporter": "python",
   "pygments_lexer": "ipython3",
   "version": "3.11.12"
  }
 },
 "nbformat": 4,
 "nbformat_minor": 5
}
