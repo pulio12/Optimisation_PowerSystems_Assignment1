{
 "cells": [
  {
   "cell_type": "code",
   "execution_count": 124,
   "id": "e6a6c00d",
   "metadata": {},
   "outputs": [],
   "source": [
    "import gurobipy as gp\n",
    "from gurobipy import GRB\n",
    "import json\n",
    "import pandas as pd\n",
    "import numpy as np"
   ]
  },
  {
   "cell_type": "code",
   "execution_count": 125,
   "id": "ba33b9bd",
   "metadata": {},
   "outputs": [],
   "source": [
    "with open(r\"C:\\Users\\Pulin\\Desktop\\Optimisation_PowerSystems_Assignment1\\data\\question_1c\\appliance_params.json\", \"r\") as f:\n",
    "    data = json.load(f)\n"
   ]
  },
  {
   "cell_type": "code",
   "execution_count": 126,
   "id": "c35cc368",
   "metadata": {},
   "outputs": [
    {
     "data": {
      "text/plain": [
       "{'DER': [{'DER_id': 'PV_01',\n",
       "   'DER_type': 'PV',\n",
       "   'max_power_kW': 3.0,\n",
       "   'min_power_ratio': 0.0,\n",
       "   'max_ramp_rate_up_ratio': 1.0,\n",
       "   'max_ramp_rate_down_ratio': 1.0}],\n",
       " 'load': [{'load_type': 'fully flexible load',\n",
       "   'load_id': 'FFL_01',\n",
       "   'max_load_kWh_per_hour': 3.0,\n",
       "   'min_load_ratio': 0.0,\n",
       "   'max_ramp_rate_up_ratio': 1.0,\n",
       "   'max_ramp_rate_down_ratio': 1.0,\n",
       "   'min_on_time_h': 0,\n",
       "   'min_off_time_h': 0}],\n",
       " 'storage': [{'storage_id': 'BESS_01',\n",
       "   'storage_capacity_kWh': 6.0,\n",
       "   'max_charging_power_ratio': 0.15,\n",
       "   'max_discharging_power_ratio': 0.3,\n",
       "   'charging_efficiency': 0.9,\n",
       "   'discharging_efficiency': 0.9}]}"
      ]
     },
     "execution_count": 126,
     "metadata": {},
     "output_type": "execute_result"
    }
   ],
   "source": [
    "data"
   ]
  },
  {
   "cell_type": "code",
   "execution_count": 127,
   "id": "bb673c96",
   "metadata": {},
   "outputs": [],
   "source": [
    "with open(r\"C:\\Users\\Pulin\\Desktop\\Optimisation_PowerSystems_Assignment1\\data\\question_1c\\bus_params.json\", \"r\") as f:\n",
    "    data2 = json.load(f)\n"
   ]
  },
  {
   "cell_type": "code",
   "execution_count": 128,
   "id": "cd3a111c",
   "metadata": {},
   "outputs": [
    {
     "data": {
      "text/plain": [
       "[{'bus_ID': 'Bus1',\n",
       "  'import_tariff_DKK/kWh': 0.5,\n",
       "  'export_tariff_DKK/kWh': 0.4,\n",
       "  'max_import_kW': 1000,\n",
       "  'max_export_kW': 500,\n",
       "  'penalty_excess_import_DKK/kWh': 10,\n",
       "  'penalty_excess_export_DKK/kWh': 10,\n",
       "  'energy_price_DKK_per_kWh': [1.1,\n",
       "   1.05,\n",
       "   1.0,\n",
       "   0.9,\n",
       "   0.85,\n",
       "   1.01,\n",
       "   1.05,\n",
       "   1.2,\n",
       "   1.4,\n",
       "   1.6,\n",
       "   1.5,\n",
       "   1.1,\n",
       "   1.05,\n",
       "   1.0,\n",
       "   0.95,\n",
       "   1.0,\n",
       "   1.2,\n",
       "   1.5,\n",
       "   2.1,\n",
       "   2.5,\n",
       "   2.2,\n",
       "   1.8,\n",
       "   1.4,\n",
       "   1.2]}]"
      ]
     },
     "execution_count": 128,
     "metadata": {},
     "output_type": "execute_result"
    }
   ],
   "source": [
    "data2"
   ]
  },
  {
   "cell_type": "code",
   "execution_count": 129,
   "id": "6ef10b9e",
   "metadata": {},
   "outputs": [
    {
     "data": {
      "text/plain": [
       "[{'consumer_ID': 'C1',\n",
       "  'DER_type': 'solar',\n",
       "  'hourly_profile_ratio': [0.0,\n",
       "   0.0,\n",
       "   0.0,\n",
       "   0.0,\n",
       "   0.0,\n",
       "   0.05,\n",
       "   0.14,\n",
       "   0.21,\n",
       "   0.15,\n",
       "   0.12,\n",
       "   0.21,\n",
       "   0.25,\n",
       "   0.85,\n",
       "   0.75,\n",
       "   0.55,\n",
       "   0.43,\n",
       "   0.23,\n",
       "   0.05,\n",
       "   0.25,\n",
       "   0.25,\n",
       "   0.0,\n",
       "   0.0,\n",
       "   0.0,\n",
       "   0.0]}]"
      ]
     },
     "execution_count": 129,
     "metadata": {},
     "output_type": "execute_result"
    }
   ],
   "source": [
    "with open(r\"C:\\Users\\Pulin\\Desktop\\Optimisation_PowerSystems_Assignment1\\data\\question_1c\\DER_production.json\", \"r\") as f:\n",
    "    data3 = json.load(f)\n",
    "\n",
    "data3"
   ]
  },
  {
   "cell_type": "code",
   "execution_count": 130,
   "id": "c001eeb0",
   "metadata": {},
   "outputs": [],
   "source": [
    "def get_param(data, key, category=None, idx=0, subcategory=None, subidx=0):\n",
    "    \"\"\"\n",
    "    General function to access a value from a (possibly nested) data dictionary.\n",
    "\n",
    "    Args:\n",
    "        data (dict or list): The loaded JSON dictionary or list of dicts.\n",
    "        key (str): The key to access.\n",
    "        category (str or None): The category (e.g., \"DER\", \"load\", \"storage\") if nested, else None.\n",
    "        idx (int): Index in the list (default 0).\n",
    "        subcategory (str or None): Optional subcategory key (e.g., \"load_preferences\").\n",
    "        subidx (int): Index in the subcategory list (default 0).\n",
    "\n",
    "    Returns:\n",
    "        The value for the requested key, or None if not found.\n",
    "    \"\"\"\n",
    "    try:\n",
    "        if category and subcategory:\n",
    "            return data[category][idx][subcategory][subidx][key]\n",
    "        elif category:\n",
    "            return data[category][idx][key]\n",
    "        elif subcategory:\n",
    "            return data[idx][subcategory][subidx][key]\n",
    "        elif isinstance(data, list):\n",
    "            return data[idx][key]\n",
    "        else:\n",
    "            return data[key]\n",
    "    except (KeyError, IndexError, TypeError):\n",
    "        print(f\"Could not find {key} in the provided path.\")\n",
    "        return None\n",
    "\n",
    "# Example usage:\n",
    "# For data4 structure:\n",
    "# get_param(data4, \"hourly_profile_ratio\", subcategory=\"load_preferences\")"
   ]
  },
  {
   "cell_type": "code",
   "execution_count": 158,
   "id": "1b719865",
   "metadata": {},
   "outputs": [
    {
     "data": {
      "text/plain": [
       "1.0"
      ]
     },
     "execution_count": 158,
     "metadata": {},
     "output_type": "execute_result"
    }
   ],
   "source": [
    "max_ramp_down_rate_solar"
   ]
  },
  {
   "cell_type": "code",
   "execution_count": 164,
   "id": "01987159",
   "metadata": {},
   "outputs": [],
   "source": [
    "\"Solar Power\";\n",
    "max_power_solar = get_param(data, \"max_power_kW\", category=\"DER\")\n",
    "min_power_ratio = get_param(data, \"min_power_ratio\", category=\"DER\")\n",
    "max_ramp_up_rate_solar  = get_param(data, \"max_ramp_rate_up_ratio\", category=\"DER\")\n",
    "max_ramp_down_rate_solar = get_param(data, \"max_ramp_rate_down_ratio\", category=\"DER\")\n",
    "\n",
    "#------------------------------------\n",
    "\"Flexible Load\";\n",
    "max_FFL = get_param(data, \"max_load_kWh_per_hour\", category=\"load\")\n",
    "min_FFL = get_param(data, \"min_load_ratio\", category=\"load\")\n",
    "max_ramp_up_rate_FFL = get_param(data, \"max_ramp_rate_up_ratio\", category=\"load\")\n",
    "max_ramp_down_rate_FFL = get_param(data, \"max_ramp_rate_down_ratio\", category=\"load\")\n",
    "min_on_time_h = get_param(data, \"min_on_time_h\", category=\"load\")\n",
    "min_off_time_h = get_param(data, \"min_off_time_h\", category=\"load\")\n",
    "\n",
    "#------------------------------------------------\n",
    "\"Battery Storage\";\n",
    "storage_capacity = get_param(data, \"storage_capacity_kWh\", category=\"storage\")\n",
    "max_charging_power_ratio = get_param(data, \"max_charging_power_ratio\", category=\"storage\")\n",
    "max_discharging_power_ratio = get_param(data, \"max_discharging_power_ratio\", category=\"storage\")\n",
    "charging_efficiency = get_param(data, \"charging_efficiency\", category=\"storage\")\n",
    "discharging_efficiency = get_param(data, \"discharging_efficiency\", category=\"storage\")\n"
   ]
  },
  {
   "cell_type": "code",
   "execution_count": 133,
   "id": "577ae4ef",
   "metadata": {},
   "outputs": [],
   "source": [
    "\n",
    "price_import = get_param(data2, \"import_tariff_DKK/kWh\")  \n",
    "price_export = get_param(data2, \"export_tariff_DKK/kWh\")  \n",
    "max_import = get_param(data2, \"max_import_kW\")  \n",
    "max_export = get_param(data2, \"max_export_kW\")  \n",
    "penalty_excess_import = get_param(data2, \"penalty_excess_import_DKK/kWh\") \n",
    "penalty_excess_export = get_param(data2, \"penalty_excess_export_DKK/kWh\")  \n",
    "\n",
    "\n",
    "electricity_price = get_param(data2, \"energy_price_DKK_per_kWh\")  "
   ]
  },
  {
   "cell_type": "code",
   "execution_count": 153,
   "id": "84aa5f1f",
   "metadata": {},
   "outputs": [
    {
     "data": {
      "text/plain": [
       "[0.0,\n",
       " 0.0,\n",
       " 0.0,\n",
       " 0.0,\n",
       " 0.0,\n",
       " 0.05,\n",
       " 0.14,\n",
       " 0.21,\n",
       " 0.15,\n",
       " 0.12,\n",
       " 0.21,\n",
       " 0.25,\n",
       " 0.85,\n",
       " 0.75,\n",
       " 0.55,\n",
       " 0.43,\n",
       " 0.23,\n",
       " 0.05,\n",
       " 0.25,\n",
       " 0.25,\n",
       " 0.0,\n",
       " 0.0,\n",
       " 0.0,\n",
       " 0.0]"
      ]
     },
     "execution_count": 153,
     "metadata": {},
     "output_type": "execute_result"
    }
   ],
   "source": [
    "Solar_CF = get_param(data3,\"hourly_profile_ratio\")\n",
    "Solar_CF"
   ]
  },
  {
   "cell_type": "code",
   "execution_count": 135,
   "id": "1fcc5b5d",
   "metadata": {},
   "outputs": [
    {
     "data": {
      "text/plain": [
       "[{'consumer_ID': 'C1',\n",
       "  'grid_preferences': None,\n",
       "  'DER_preferences': None,\n",
       "  'load_preferences': [{'load_id': 'FFL_01',\n",
       "    'min_total_energy_per_day_hour_equivalent': None,\n",
       "    'max_total_energy_per_day_hour_equivalent': None,\n",
       "    'hourly_profile_ratio': [0.055,\n",
       "     0.04,\n",
       "     0.04,\n",
       "     0.04,\n",
       "     0.075,\n",
       "     0.48,\n",
       "     0.76,\n",
       "     0.8,\n",
       "     0.63,\n",
       "     0.22,\n",
       "     0.25,\n",
       "     0.35,\n",
       "     0.3,\n",
       "     0.28,\n",
       "     0.45,\n",
       "     0.65,\n",
       "     0.78,\n",
       "     0.9,\n",
       "     0.98,\n",
       "     0.88,\n",
       "     0.075,\n",
       "     0.15,\n",
       "     0.075,\n",
       "     0.055]}],\n",
       "  'storage_preferences': [{'storage_id': 'BESS_01',\n",
       "    'initial_soc_ratio': 0.5,\n",
       "    'final_soc_ratio': 0.5}],\n",
       "  'heat_pump_preferences': None}]"
      ]
     },
     "execution_count": 135,
     "metadata": {},
     "output_type": "execute_result"
    }
   ],
   "source": [
    "with open(r\"C:\\Users\\Pulin\\Desktop\\Optimisation_PowerSystems_Assignment1\\data\\question_1c\\usage_preferences.json\", \"r\") as f:\n",
    "    data4 = json.load(f)\n",
    "\n",
    "data4"
   ]
  },
  {
   "cell_type": "code",
   "execution_count": 136,
   "id": "3dfb7143",
   "metadata": {},
   "outputs": [],
   "source": [
    "load_profile_consumer = get_param(data4, \"hourly_profile_ratio\", subcategory=\"load_preferences\")\n",
    "SOC_initial = get_param(data4, \"initial_soc_ratio\", subcategory=\"storage_preferences\")\n",
    "SOC_final = get_param(data4, \"final_soc_ratio\", subcategory=\"storage_preferences\")\n"
   ]
  },
  {
   "cell_type": "code",
   "execution_count": 137,
   "id": "634f0051",
   "metadata": {},
   "outputs": [
    {
     "data": {
      "text/plain": [
       "(0.5, 0.5)"
      ]
     },
     "execution_count": 137,
     "metadata": {},
     "output_type": "execute_result"
    }
   ],
   "source": [
    "SOC_initial, SOC_final"
   ]
  },
  {
   "cell_type": "code",
   "execution_count": 138,
   "id": "04ee9afa",
   "metadata": {},
   "outputs": [
    {
     "data": {
      "text/plain": [
       "(0.15, 6.0)"
      ]
     },
     "execution_count": 138,
     "metadata": {},
     "output_type": "execute_result"
    }
   ],
   "source": [
    "max_charging_power_ratio, storage_capacity"
   ]
  },
  {
   "cell_type": "code",
   "execution_count": 139,
   "id": "cdec216d",
   "metadata": {},
   "outputs": [
    {
     "data": {
      "text/plain": [
       "range(0, 24)"
      ]
     },
     "execution_count": 139,
     "metadata": {},
     "output_type": "execute_result"
    }
   ],
   "source": [
    "t = range(len(solar_profile_ratio))\n",
    "t"
   ]
  },
  {
   "cell_type": "code",
   "execution_count": 148,
   "id": "adcba1ed",
   "metadata": {},
   "outputs": [
    {
     "data": {
      "text/plain": [
       "3.0"
      ]
     },
     "execution_count": 148,
     "metadata": {},
     "output_type": "execute_result"
    }
   ],
   "source": [
    "max_power_solar"
   ]
  },
  {
   "cell_type": "code",
   "execution_count": 186,
   "id": "1e7a7cec",
   "metadata": {},
   "outputs": [
    {
     "data": {
      "text/plain": [
       "0.5"
      ]
     },
     "execution_count": 186,
     "metadata": {},
     "output_type": "execute_result"
    }
   ],
   "source": [
    "SOC_initial"
   ]
  },
  {
   "cell_type": "code",
   "execution_count": null,
   "id": "a39b10cd",
   "metadata": {},
   "outputs": [],
   "source": [
    "max_ramp_up_rate_rate_FFL"
   ]
  },
  {
   "cell_type": "code",
   "execution_count": 198,
   "id": "20e1abf1",
   "metadata": {},
   "outputs": [
    {
     "data": {
      "text/plain": [
       "6.0"
      ]
     },
     "execution_count": 198,
     "metadata": {},
     "output_type": "execute_result"
    }
   ],
   "source": [
    "storage_capacity"
   ]
  },
  {
   "cell_type": "code",
   "execution_count": 203,
   "id": "002e7481",
   "metadata": {},
   "outputs": [],
   "source": [
    "import gurobipy as gp\n",
    "from gurobipy import GRB\n",
    "\n",
    "def prosumer_optimization(price_import, price_export, electricity_price,\n",
    "                          penalty_excess_import, penalty_excess_export):\n",
    "    \"\"\"\n",
    "    Prosumer optimization model to minimize procurement cost & penalties, including battery storage and SOC.\n",
    "    \"\"\"\n",
    "\n",
    "    # Create model\n",
    "    model = gp.Model(\"Prosumer_Continuous\")\n",
    "\n",
    "    # Decision variables\n",
    "    x_imports = model.addVars(t, name=\"imported_power_kW\", lb=0, ub=GRB.INFINITY)\n",
    "    x_exports = model.addVars(t, name=\"exported_power_kW\", lb=0, ub=GRB.INFINITY)\n",
    "    x_FFL = model.addVars(t, name=\"FFL_consumption_kW\", lb=0, ub=1)  # scaled 0-1\n",
    "    x_solar = model.addVars(t, name=\"solar_power_kW\", lb=0)\n",
    "    z_import_excess = model.addVars(t, name=\"excess_import_kW\", lb=0)\n",
    "    z_export_excess = model.addVars(t, name=\"excess_export_kW\", lb=0)\n",
    "    delta_FFL = model.addVars(t, name=\"delta_FFL\", lb=0, ub=GRB.INFINITY)\n",
    "    SOC_t = model.addVars(t, name=\"SOC\", lb=0, ub=storage_capacity)\n",
    "    x_charging = model.addVars(t, name=\"charging_power_kW\", lb=0, ub=max_charging_power_ratio * storage_capacity)\n",
    "    x_discharging = model.addVars(t, name=\"discharging_power_kW\", lb=0, ub=max_discharging_power_ratio * storage_capacity)\n",
    "\n",
    "    # Hourly constraints\n",
    "    for i in t:\n",
    "        # FFL min/max\n",
    "        model.addConstr(x_FFL[i] * max_load_FFL >= min_load_FFL, name=f\"FFL_min_{i}\")\n",
    "        model.addConstr(x_FFL[i] * max_load_FFL <= max_load_FFL, name=f\"FFL_max_{i}\")\n",
    "\n",
    "        # Solar production limit\n",
    "        model.addConstr(x_solar[i] <= Solar_CF[i] * max_power_solar, name=f\"solar_max_{i}\")\n",
    "\n",
    "        # Energy balance (now includes battery charging/discharging)\n",
    "        model.addConstr(\n",
    "            x_imports[i] - x_exports[i] + x_solar[i] + x_discharging[i] - x_charging[i] == x_FFL[i] * max_load_FFL,\n",
    "            name=f\"energy_balance_{i}\"\n",
    "        )\n",
    "\n",
    "        # Excess import/export\n",
    "        model.addConstr(z_import_excess[i] >= x_imports[i] - max_import, name=f\"excess_import_{i}\")\n",
    "        model.addConstr(z_export_excess[i] >= x_exports[i] - max_export, name=f\"excess_export_{i}\")\n",
    "\n",
    "        model.addConstr(x_charging[i] <= max_charging_power_ratio * storage_capacity, name=f\"charging_limit_{i}\")\n",
    "        model.addConstr(x_discharging[i] <= max_discharging_power_ratio * storage_capacity, name=f\"discharging_limit_{i}\")\n",
    "\n",
    "        # SOC bounds and dynamics\n",
    "        if i == 0:\n",
    "            model.addConstr(SOC_t[i] == SOC_initial * storage_capacity, name=\"initial_soc\") # kWh\n",
    "        if i == 24:\n",
    "            model.addConstr(SOC_t[i] == SOC_final * storage_capacity, name=\"final_soc\") # kWh\n",
    "\n",
    "        # Final SOC constraint (at last hour)\n",
    "        if i == t[-1]:\n",
    "            model.addConstr(SOC_t[i] == SOC_final * storage_capacity, name=\"final_soc\") # kWh\n",
    "\n",
    "        # Ramp constraints for FFL + Solar,  [t - 1] -> [t]\n",
    "        if i > 0:\n",
    "            model.addConstr(\n",
    "                (x_FFL[i] * max_load_FFL) - (x_FFL[i-1] * max_load_FFL) <= max_ramp_up_rate_FFL * max_load_FFL,\n",
    "                name=f\"FFL_ramp_up_{i}\"\n",
    "            )\n",
    "            model.addConstr(\n",
    "                (x_FFL[i-1] * max_load_FFL) - (x_FFL[i] * max_load_FFL) <= max_ramp_down_rate_FFL * max_load_FFL,\n",
    "                name=f\"FFL_ramp_down_{i}\"\n",
    "            )\n",
    "\n",
    "            # Ramp constraints for solar\n",
    "            model.addConstr(\n",
    "                x_solar[i] - x_solar[i-1] <= max_ramp_up_rate_solar * max_power_solar,\n",
    "                name=f\"solar_ramp_up_{i}\"\n",
    "            )\n",
    "            model.addConstr(\n",
    "                x_solar[i-1] - x_solar[i] <= max_ramp_down_rate_solar * max_power_solar,\n",
    "                name=f\"solar_ramp_down_{i}\"\n",
    "            )\n",
    "\n",
    "            # Flexibility Constraint       \n",
    "            model.addConstr(\n",
    "                (x_FFL[i] - x_FFL[i-1]) * max_load_FFL <= delta_FFL[i],\n",
    "                name=f\"FFL_delta_up_{i}\"\n",
    "            )\n",
    "            model.addConstr(\n",
    "                (x_FFL[i-1] - x_FFL[i]) * max_load_FFL <= delta_FFL[i],\n",
    "                name=f\"FFL_delta_down_{i}\"\n",
    "            )\n",
    "\n",
    "            # SOC dynamics\n",
    "            model.addConstr(\n",
    "                SOC_t[i] == SOC_t[i-1] + (x_charging[i] * charging_efficiency) - (x_discharging[i] / discharging_efficiency),\n",
    "                name=f\"SOC_dynamics_{i}\"\n",
    "            )\n",
    "\n",
    "            \n",
    "\n",
    "    # Objective: minimize cost + penalties\n",
    "    model.setObjective(\n",
    "    gp.quicksum(\n",
    "        (-price_import - electricity_price[i]) * x_imports[i]\n",
    "        - penalty_excess_import * z_import_excess[i]\n",
    "        + (electricity_price[i] - price_export) * x_exports[i]\n",
    "        -penalty_excess_export * z_export_excess[i]\n",
    "        for i in t\n",
    "    ),\n",
    "    sense=GRB.MAXIMIZE\n",
    ")\n",
    "\n",
    "    # Solve\n",
    "    model.optimize()\n",
    "\n",
    "    return model, x_imports, x_exports, x_FFL, x_solar, delta_FFL, SOC_t, x_charging, x_discharging"
   ]
  },
  {
   "cell_type": "code",
   "execution_count": 204,
   "id": "854e2665",
   "metadata": {},
   "outputs": [
    {
     "data": {
      "text/plain": [
       "(0.5, 0.4, 10, 10)"
      ]
     },
     "execution_count": 204,
     "metadata": {},
     "output_type": "execute_result"
    }
   ],
   "source": [
    "price_import, price_export,penalty_excess_import, penalty_excess_export"
   ]
  },
  {
   "cell_type": "code",
   "execution_count": 205,
   "id": "6cdfa6a9",
   "metadata": {},
   "outputs": [
    {
     "data": {
      "text/plain": [
       "[1.1,\n",
       " 1.05,\n",
       " 1.0,\n",
       " 0.9,\n",
       " 0.85,\n",
       " 1.01,\n",
       " 1.05,\n",
       " 1.2,\n",
       " 1.4,\n",
       " 1.6,\n",
       " 1.5,\n",
       " 1.1,\n",
       " 1.05,\n",
       " 1.0,\n",
       " 0.95,\n",
       " 1.0,\n",
       " 1.2,\n",
       " 1.5,\n",
       " 2.1,\n",
       " 2.5,\n",
       " 2.2,\n",
       " 1.8,\n",
       " 1.4,\n",
       " 1.2]"
      ]
     },
     "execution_count": 205,
     "metadata": {},
     "output_type": "execute_result"
    }
   ],
   "source": [
    "electricity_price"
   ]
  },
  {
   "cell_type": "code",
   "execution_count": 206,
   "id": "1949a64d",
   "metadata": {},
   "outputs": [
    {
     "name": "stdout",
     "output_type": "stream",
     "text": [
      "Gurobi Optimizer version 12.0.1 build v12.0.1rc0 (win64 - Windows 11.0 (26100.2))\n",
      "\n",
      "CPU model: AMD Ryzen 7 8845HS w/ Radeon 780M Graphics, instruction set [SSE2|AVX|AVX2|AVX512]\n",
      "Thread count: 8 physical cores, 16 logical processors, using up to 16 threads\n",
      "\n",
      "Optimize a model with 355 rows, 240 columns and 776 nonzeros\n",
      "Model fingerprint: 0xc3d08a13\n",
      "Coefficient statistics:\n",
      "  Matrix range     [9e-01, 3e+00]\n",
      "  Objective range  [4e-01, 1e+01]\n",
      "  Bounds range     [9e-01, 6e+00]\n",
      "  RHS range        [2e-01, 1e+03]\n",
      "Presolve removed 262 rows and 54 columns\n",
      "Presolve time: 0.01s\n",
      "Presolved: 93 rows, 186 columns, 300 nonzeros\n",
      "\n",
      "Iteration    Objective       Primal Inf.    Dual Inf.      Time\n",
      "       0    2.2060000e+31   3.200000e+31   2.206000e+01      0s\n",
      "      70    1.6548840e+01   0.000000e+00   0.000000e+00      0s\n",
      "\n",
      "Solved in 70 iterations and 0.01 seconds (0.00 work units)\n",
      "Optimal objective  1.654884000e+01\n"
     ]
    },
    {
     "data": {
      "text/plain": [
       "(<gurobi.Model Continuous instance Prosumer_Continuous: 355 constrs, 240 vars, Parameter changes: Username=(user-defined), LicenseID=2602524>,\n",
       " {0: <gurobi.Var imported_power_kW[0] (value 0.0)>,\n",
       "  1: <gurobi.Var imported_power_kW[1] (value 0.0)>,\n",
       "  2: <gurobi.Var imported_power_kW[2] (value 0.0)>,\n",
       "  3: <gurobi.Var imported_power_kW[3] (value 0.0)>,\n",
       "  4: <gurobi.Var imported_power_kW[4] (value 0.0)>,\n",
       "  5: <gurobi.Var imported_power_kW[5] (value 0.0)>,\n",
       "  6: <gurobi.Var imported_power_kW[6] (value 0.0)>,\n",
       "  7: <gurobi.Var imported_power_kW[7] (value 0.0)>,\n",
       "  8: <gurobi.Var imported_power_kW[8] (value 0.0)>,\n",
       "  9: <gurobi.Var imported_power_kW[9] (value 0.0)>,\n",
       "  10: <gurobi.Var imported_power_kW[10] (value 0.0)>,\n",
       "  11: <gurobi.Var imported_power_kW[11] (value 0.0)>,\n",
       "  12: <gurobi.Var imported_power_kW[12] (value 0.0)>,\n",
       "  13: <gurobi.Var imported_power_kW[13] (value 0.0)>,\n",
       "  14: <gurobi.Var imported_power_kW[14] (value 0.0)>,\n",
       "  15: <gurobi.Var imported_power_kW[15] (value 0.0)>,\n",
       "  16: <gurobi.Var imported_power_kW[16] (value 0.0)>,\n",
       "  17: <gurobi.Var imported_power_kW[17] (value 0.0)>,\n",
       "  18: <gurobi.Var imported_power_kW[18] (value 0.0)>,\n",
       "  19: <gurobi.Var imported_power_kW[19] (value 0.0)>,\n",
       "  20: <gurobi.Var imported_power_kW[20] (value 0.0)>,\n",
       "  21: <gurobi.Var imported_power_kW[21] (value 0.0)>,\n",
       "  22: <gurobi.Var imported_power_kW[22] (value 0.0)>,\n",
       "  23: <gurobi.Var imported_power_kW[23] (value 0.0)>},\n",
       " {0: <gurobi.Var exported_power_kW[0] (value 1.7999999999999998)>,\n",
       "  1: <gurobi.Var exported_power_kW[1] (value 0.0)>,\n",
       "  2: <gurobi.Var exported_power_kW[2] (value 0.0)>,\n",
       "  3: <gurobi.Var exported_power_kW[3] (value 0.0)>,\n",
       "  4: <gurobi.Var exported_power_kW[4] (value 0.0)>,\n",
       "  5: <gurobi.Var exported_power_kW[5] (value 0.0)>,\n",
       "  6: <gurobi.Var exported_power_kW[6] (value 0.0)>,\n",
       "  7: <gurobi.Var exported_power_kW[7] (value 0.0)>,\n",
       "  8: <gurobi.Var exported_power_kW[8] (value 0.44999999999999996)>,\n",
       "  9: <gurobi.Var exported_power_kW[9] (value 2.1599999999999997)>,\n",
       "  10: <gurobi.Var exported_power_kW[10] (value 1.1844000000000001)>,\n",
       "  11: <gurobi.Var exported_power_kW[11] (value 0.0)>,\n",
       "  12: <gurobi.Var exported_power_kW[12] (value 1.65)>,\n",
       "  13: <gurobi.Var exported_power_kW[13] (value 1.35)>,\n",
       "  14: <gurobi.Var exported_power_kW[14] (value 0.7500000000000002)>,\n",
       "  15: <gurobi.Var exported_power_kW[15] (value 0.3900000000000001)>,\n",
       "  16: <gurobi.Var exported_power_kW[16] (value 0.0)>,\n",
       "  17: <gurobi.Var exported_power_kW[17] (value 0.15000000000000002)>,\n",
       "  18: <gurobi.Var exported_power_kW[18] (value 0.75)>,\n",
       "  19: <gurobi.Var exported_power_kW[19] (value 2.55)>,\n",
       "  20: <gurobi.Var exported_power_kW[20] (value 0.8999999999999999)>,\n",
       "  21: <gurobi.Var exported_power_kW[21] (value 0.0)>,\n",
       "  22: <gurobi.Var exported_power_kW[22] (value 0.0)>,\n",
       "  23: <gurobi.Var exported_power_kW[23] (value 0.0)>},\n",
       " {0: <gurobi.Var FFL_consumption_kW[0] (value 0.0)>,\n",
       "  1: <gurobi.Var FFL_consumption_kW[1] (value 0.0)>,\n",
       "  2: <gurobi.Var FFL_consumption_kW[2] (value 0.0)>,\n",
       "  3: <gurobi.Var FFL_consumption_kW[3] (value 0.0)>,\n",
       "  4: <gurobi.Var FFL_consumption_kW[4] (value 0.0)>,\n",
       "  5: <gurobi.Var FFL_consumption_kW[5] (value 0.0)>,\n",
       "  6: <gurobi.Var FFL_consumption_kW[6] (value 0.0)>,\n",
       "  7: <gurobi.Var FFL_consumption_kW[7] (value 0.0)>,\n",
       "  8: <gurobi.Var FFL_consumption_kW[8] (value 0.0)>,\n",
       "  9: <gurobi.Var FFL_consumption_kW[9] (value 0.0)>,\n",
       "  10: <gurobi.Var FFL_consumption_kW[10] (value 0.0)>,\n",
       "  11: <gurobi.Var FFL_consumption_kW[11] (value 0.0)>,\n",
       "  12: <gurobi.Var FFL_consumption_kW[12] (value 0.0)>,\n",
       "  13: <gurobi.Var FFL_consumption_kW[13] (value 0.0)>,\n",
       "  14: <gurobi.Var FFL_consumption_kW[14] (value 0.0)>,\n",
       "  15: <gurobi.Var FFL_consumption_kW[15] (value 0.0)>,\n",
       "  16: <gurobi.Var FFL_consumption_kW[16] (value 0.0)>,\n",
       "  17: <gurobi.Var FFL_consumption_kW[17] (value 0.0)>,\n",
       "  18: <gurobi.Var FFL_consumption_kW[18] (value 0.0)>,\n",
       "  19: <gurobi.Var FFL_consumption_kW[19] (value 0.0)>,\n",
       "  20: <gurobi.Var FFL_consumption_kW[20] (value 0.0)>,\n",
       "  21: <gurobi.Var FFL_consumption_kW[21] (value 0.0)>,\n",
       "  22: <gurobi.Var FFL_consumption_kW[22] (value 0.0)>,\n",
       "  23: <gurobi.Var FFL_consumption_kW[23] (value 0.0)>},\n",
       " {0: <gurobi.Var solar_power_kW[0] (value 0.0)>,\n",
       "  1: <gurobi.Var solar_power_kW[1] (value 0.0)>,\n",
       "  2: <gurobi.Var solar_power_kW[2] (value 0.0)>,\n",
       "  3: <gurobi.Var solar_power_kW[3] (value 0.0)>,\n",
       "  4: <gurobi.Var solar_power_kW[4] (value 0.0)>,\n",
       "  5: <gurobi.Var solar_power_kW[5] (value 0.15000000000000002)>,\n",
       "  6: <gurobi.Var solar_power_kW[6] (value 0.42000000000000004)>,\n",
       "  7: <gurobi.Var solar_power_kW[7] (value 0.63)>,\n",
       "  8: <gurobi.Var solar_power_kW[8] (value 0.44999999999999996)>,\n",
       "  9: <gurobi.Var solar_power_kW[9] (value 0.36)>,\n",
       "  10: <gurobi.Var solar_power_kW[10] (value 0.63)>,\n",
       "  11: <gurobi.Var solar_power_kW[11] (value 0.75)>,\n",
       "  12: <gurobi.Var solar_power_kW[12] (value 2.55)>,\n",
       "  13: <gurobi.Var solar_power_kW[13] (value 2.25)>,\n",
       "  14: <gurobi.Var solar_power_kW[14] (value 1.6500000000000001)>,\n",
       "  15: <gurobi.Var solar_power_kW[15] (value 1.29)>,\n",
       "  16: <gurobi.Var solar_power_kW[16] (value 0.6900000000000001)>,\n",
       "  17: <gurobi.Var solar_power_kW[17] (value 0.15000000000000002)>,\n",
       "  18: <gurobi.Var solar_power_kW[18] (value 0.75)>,\n",
       "  19: <gurobi.Var solar_power_kW[19] (value 0.75)>,\n",
       "  20: <gurobi.Var solar_power_kW[20] (value 0.0)>,\n",
       "  21: <gurobi.Var solar_power_kW[21] (value 0.0)>,\n",
       "  22: <gurobi.Var solar_power_kW[22] (value 0.0)>,\n",
       "  23: <gurobi.Var solar_power_kW[23] (value 0.0)>},\n",
       " {0: <gurobi.Var delta_FFL[0] (value 0.0)>,\n",
       "  1: <gurobi.Var delta_FFL[1] (value 0.0)>,\n",
       "  2: <gurobi.Var delta_FFL[2] (value 0.0)>,\n",
       "  3: <gurobi.Var delta_FFL[3] (value 0.0)>,\n",
       "  4: <gurobi.Var delta_FFL[4] (value 0.0)>,\n",
       "  5: <gurobi.Var delta_FFL[5] (value 0.0)>,\n",
       "  6: <gurobi.Var delta_FFL[6] (value 0.0)>,\n",
       "  7: <gurobi.Var delta_FFL[7] (value 0.0)>,\n",
       "  8: <gurobi.Var delta_FFL[8] (value 0.0)>,\n",
       "  9: <gurobi.Var delta_FFL[9] (value 0.0)>,\n",
       "  10: <gurobi.Var delta_FFL[10] (value 0.0)>,\n",
       "  11: <gurobi.Var delta_FFL[11] (value 0.0)>,\n",
       "  12: <gurobi.Var delta_FFL[12] (value 0.0)>,\n",
       "  13: <gurobi.Var delta_FFL[13] (value 0.0)>,\n",
       "  14: <gurobi.Var delta_FFL[14] (value 0.0)>,\n",
       "  15: <gurobi.Var delta_FFL[15] (value 0.0)>,\n",
       "  16: <gurobi.Var delta_FFL[16] (value 0.0)>,\n",
       "  17: <gurobi.Var delta_FFL[17] (value 0.0)>,\n",
       "  18: <gurobi.Var delta_FFL[18] (value 0.0)>,\n",
       "  19: <gurobi.Var delta_FFL[19] (value 0.0)>,\n",
       "  20: <gurobi.Var delta_FFL[20] (value 0.0)>,\n",
       "  21: <gurobi.Var delta_FFL[21] (value 0.0)>,\n",
       "  22: <gurobi.Var delta_FFL[22] (value 0.0)>,\n",
       "  23: <gurobi.Var delta_FFL[23] (value 0.0)>},\n",
       " {0: <gurobi.Var SOC[0] (value 3.0)>,\n",
       "  1: <gurobi.Var SOC[1] (value 3.0)>,\n",
       "  2: <gurobi.Var SOC[2] (value 3.0)>,\n",
       "  3: <gurobi.Var SOC[3] (value 3.0)>,\n",
       "  4: <gurobi.Var SOC[4] (value 3.0)>,\n",
       "  5: <gurobi.Var SOC[5] (value 3.1350000000000002)>,\n",
       "  6: <gurobi.Var SOC[6] (value 3.5130000000000003)>,\n",
       "  7: <gurobi.Var SOC[7] (value 4.08)>,\n",
       "  8: <gurobi.Var SOC[8] (value 4.08)>,\n",
       "  9: <gurobi.Var SOC[9] (value 2.08)>,\n",
       "  10: <gurobi.Var SOC[10] (value 1.4639999999999997)>,\n",
       "  11: <gurobi.Var SOC[11] (value 2.139)>,\n",
       "  12: <gurobi.Var SOC[12] (value 2.949)>,\n",
       "  13: <gurobi.Var SOC[13] (value 3.759)>,\n",
       "  14: <gurobi.Var SOC[14] (value 4.569)>,\n",
       "  15: <gurobi.Var SOC[15] (value 5.379)>,\n",
       "  16: <gurobi.Var SOC[16] (value 6.0)>,\n",
       "  17: <gurobi.Var SOC[17] (value 6.0)>,\n",
       "  18: <gurobi.Var SOC[18] (value 6.0)>,\n",
       "  19: <gurobi.Var SOC[19] (value 4.0)>,\n",
       "  20: <gurobi.Var SOC[20] (value 3.0)>,\n",
       "  21: <gurobi.Var SOC[21] (value 3.0)>,\n",
       "  22: <gurobi.Var SOC[22] (value 3.0)>,\n",
       "  23: <gurobi.Var SOC[23] (value 3.0)>},\n",
       " {0: <gurobi.Var charging_power_kW[0] (value 0.0)>,\n",
       "  1: <gurobi.Var charging_power_kW[1] (value 0.0)>,\n",
       "  2: <gurobi.Var charging_power_kW[2] (value 0.0)>,\n",
       "  3: <gurobi.Var charging_power_kW[3] (value 0.0)>,\n",
       "  4: <gurobi.Var charging_power_kW[4] (value 0.0)>,\n",
       "  5: <gurobi.Var charging_power_kW[5] (value 0.15000000000000002)>,\n",
       "  6: <gurobi.Var charging_power_kW[6] (value 0.42000000000000004)>,\n",
       "  7: <gurobi.Var charging_power_kW[7] (value 0.63)>,\n",
       "  8: <gurobi.Var charging_power_kW[8] (value 0.0)>,\n",
       "  9: <gurobi.Var charging_power_kW[9] (value 0.0)>,\n",
       "  10: <gurobi.Var charging_power_kW[10] (value 0.0)>,\n",
       "  11: <gurobi.Var charging_power_kW[11] (value 0.75)>,\n",
       "  12: <gurobi.Var charging_power_kW[12] (value 0.8999999999999999)>,\n",
       "  13: <gurobi.Var charging_power_kW[13] (value 0.8999999999999999)>,\n",
       "  14: <gurobi.Var charging_power_kW[14] (value 0.8999999999999999)>,\n",
       "  15: <gurobi.Var charging_power_kW[15] (value 0.8999999999999999)>,\n",
       "  16: <gurobi.Var charging_power_kW[16] (value 0.6900000000000001)>,\n",
       "  17: <gurobi.Var charging_power_kW[17] (value 0.0)>,\n",
       "  18: <gurobi.Var charging_power_kW[18] (value 0.0)>,\n",
       "  19: <gurobi.Var charging_power_kW[19] (value 0.0)>,\n",
       "  20: <gurobi.Var charging_power_kW[20] (value 0.0)>,\n",
       "  21: <gurobi.Var charging_power_kW[21] (value 0.0)>,\n",
       "  22: <gurobi.Var charging_power_kW[22] (value 0.0)>,\n",
       "  23: <gurobi.Var charging_power_kW[23] (value 0.0)>},\n",
       " {0: <gurobi.Var discharging_power_kW[0] (value 1.7999999999999998)>,\n",
       "  1: <gurobi.Var discharging_power_kW[1] (value 0.0)>,\n",
       "  2: <gurobi.Var discharging_power_kW[2] (value 0.0)>,\n",
       "  3: <gurobi.Var discharging_power_kW[3] (value 0.0)>,\n",
       "  4: <gurobi.Var discharging_power_kW[4] (value 0.0)>,\n",
       "  5: <gurobi.Var discharging_power_kW[5] (value 0.0)>,\n",
       "  6: <gurobi.Var discharging_power_kW[6] (value 0.0)>,\n",
       "  7: <gurobi.Var discharging_power_kW[7] (value 0.0)>,\n",
       "  8: <gurobi.Var discharging_power_kW[8] (value 0.0)>,\n",
       "  9: <gurobi.Var discharging_power_kW[9] (value 1.7999999999999998)>,\n",
       "  10: <gurobi.Var discharging_power_kW[10] (value 0.5544000000000002)>,\n",
       "  11: <gurobi.Var discharging_power_kW[11] (value 0.0)>,\n",
       "  12: <gurobi.Var discharging_power_kW[12] (value 0.0)>,\n",
       "  13: <gurobi.Var discharging_power_kW[13] (value 0.0)>,\n",
       "  14: <gurobi.Var discharging_power_kW[14] (value 0.0)>,\n",
       "  15: <gurobi.Var discharging_power_kW[15] (value 0.0)>,\n",
       "  16: <gurobi.Var discharging_power_kW[16] (value 0.0)>,\n",
       "  17: <gurobi.Var discharging_power_kW[17] (value 0.0)>,\n",
       "  18: <gurobi.Var discharging_power_kW[18] (value 0.0)>,\n",
       "  19: <gurobi.Var discharging_power_kW[19] (value 1.7999999999999998)>,\n",
       "  20: <gurobi.Var discharging_power_kW[20] (value 0.8999999999999999)>,\n",
       "  21: <gurobi.Var discharging_power_kW[21] (value 0.0)>,\n",
       "  22: <gurobi.Var discharging_power_kW[22] (value 0.0)>,\n",
       "  23: <gurobi.Var discharging_power_kW[23] (value 0.0)>})"
      ]
     },
     "execution_count": 206,
     "metadata": {},
     "output_type": "execute_result"
    }
   ],
   "source": [
    "prosumer_optimization(price_import, price_export, electricity_price,\n",
    "                          penalty_excess_import, penalty_excess_export)"
   ]
  },
  {
   "cell_type": "code",
   "execution_count": 207,
   "id": "e707f9e3",
   "metadata": {},
   "outputs": [
    {
     "name": "stdout",
     "output_type": "stream",
     "text": [
      "Gurobi Optimizer version 12.0.1 build v12.0.1rc0 (win64 - Windows 11.0 (26100.2))\n",
      "\n",
      "CPU model: AMD Ryzen 7 8845HS w/ Radeon 780M Graphics, instruction set [SSE2|AVX|AVX2|AVX512]\n",
      "Thread count: 8 physical cores, 16 logical processors, using up to 16 threads\n",
      "\n",
      "Optimize a model with 355 rows, 240 columns and 776 nonzeros\n",
      "Model fingerprint: 0xc3d08a13\n",
      "Coefficient statistics:\n",
      "  Matrix range     [9e-01, 3e+00]\n",
      "  Objective range  [4e-01, 1e+01]\n",
      "  Bounds range     [9e-01, 6e+00]\n",
      "  RHS range        [2e-01, 1e+03]\n",
      "Presolve removed 262 rows and 54 columns\n",
      "Presolve time: 0.01s\n",
      "Presolved: 93 rows, 186 columns, 300 nonzeros\n",
      "\n",
      "Iteration    Objective       Primal Inf.    Dual Inf.      Time\n",
      "       0    2.2060000e+31   3.200000e+31   2.206000e+01      0s\n",
      "      70    1.6548840e+01   0.000000e+00   0.000000e+00      0s\n",
      "\n",
      "Solved in 70 iterations and 0.02 seconds (0.00 work units)\n",
      "Optimal objective  1.654884000e+01\n"
     ]
    },
    {
     "name": "stdout",
     "output_type": "stream",
     "text": [
      "Hour | Import(kW) | Export(kW) | FFL(kW) | Solar(kW) | Delta_FFL | SOC(kWh) | Charging(kW) | Discharging(kW)\n",
      "   0 |      0.000 |      1.800 |   0.000 |    0.000 |     0.000 |    3.000 |       0.000 |         1.800\n",
      "   1 |      0.000 |      0.000 |   0.000 |    0.000 |     0.000 |    3.000 |       0.000 |         0.000\n",
      "   2 |      0.000 |      0.000 |   0.000 |    0.000 |     0.000 |    3.000 |       0.000 |         0.000\n",
      "   3 |      0.000 |      0.000 |   0.000 |    0.000 |     0.000 |    3.000 |       0.000 |         0.000\n",
      "   4 |      0.000 |      0.000 |   0.000 |    0.000 |     0.000 |    3.000 |       0.000 |         0.000\n",
      "   5 |      0.000 |      0.000 |   0.000 |    0.150 |     0.000 |    3.135 |       0.150 |         0.000\n",
      "   6 |      0.000 |      0.000 |   0.000 |    0.420 |     0.000 |    3.513 |       0.420 |         0.000\n",
      "   7 |      0.000 |      0.000 |   0.000 |    0.630 |     0.000 |    4.080 |       0.630 |         0.000\n",
      "   8 |      0.000 |      0.450 |   0.000 |    0.450 |     0.000 |    4.080 |       0.000 |         0.000\n",
      "   9 |      0.000 |      2.160 |   0.000 |    0.360 |     0.000 |    2.080 |       0.000 |         1.800\n",
      "  10 |      0.000 |      1.184 |   0.000 |    0.630 |     0.000 |    1.464 |       0.000 |         0.554\n",
      "  11 |      0.000 |      0.000 |   0.000 |    0.750 |     0.000 |    2.139 |       0.750 |         0.000\n",
      "  12 |      0.000 |      1.650 |   0.000 |    2.550 |     0.000 |    2.949 |       0.900 |         0.000\n",
      "  13 |      0.000 |      1.350 |   0.000 |    2.250 |     0.000 |    3.759 |       0.900 |         0.000\n",
      "  14 |      0.000 |      0.750 |   0.000 |    1.650 |     0.000 |    4.569 |       0.900 |         0.000\n",
      "  15 |      0.000 |      0.390 |   0.000 |    1.290 |     0.000 |    5.379 |       0.900 |         0.000\n",
      "  16 |      0.000 |      0.000 |   0.000 |    0.690 |     0.000 |    6.000 |       0.690 |         0.000\n",
      "  17 |      0.000 |      0.150 |   0.000 |    0.150 |     0.000 |    6.000 |       0.000 |         0.000\n",
      "  18 |      0.000 |      0.750 |   0.000 |    0.750 |     0.000 |    6.000 |       0.000 |         0.000\n",
      "  19 |      0.000 |      2.550 |   0.000 |    0.750 |     0.000 |    4.000 |       0.000 |         1.800\n",
      "  20 |      0.000 |      0.900 |   0.000 |    0.000 |     0.000 |    3.000 |       0.000 |         0.900\n",
      "  21 |      0.000 |      0.000 |   0.000 |    0.000 |     0.000 |    3.000 |       0.000 |         0.000\n",
      "  22 |      0.000 |      0.000 |   0.000 |    0.000 |     0.000 |    3.000 |       0.000 |         0.000\n",
      "  23 |      0.000 |      0.000 |   0.000 |    0.000 |     0.000 |    3.000 |       0.000 |         0.000\n"
     ]
    }
   ],
   "source": [
    "# Run the optimization and get the variables\n",
    "model, x_imports, x_exports, x_FFL, x_solar, delta_FFL, SOC_t, x_charging, x_discharging = prosumer_optimization(\n",
    "    price_import, price_export, electricity_price,\n",
    "    penalty_excess_import, penalty_excess_export\n",
    ")\n",
    "\n",
    "# Print all outputs per hour\n",
    "print(\"Hour | Import(kW) | Export(kW) | FFL(kW) | Solar(kW) | Delta_FFL | SOC(kWh) | Charging(kW) | Discharging(kW)\")\n",
    "for i in t:\n",
    "    print(f\"{i:>4} | \"\n",
    "          f\"{x_imports[i].X:>10.3f} | \"\n",
    "          f\"{x_exports[i].X:>10.3f} | \"\n",
    "          f\"{x_FFL[i].X * max_load_FFL:>7.3f} | \"\n",
    "          f\"{x_solar[i].X:>8.3f} | \"\n",
    "          f\"{delta_FFL[i].X:>9.3f} | \"\n",
    "          f\"{SOC_t[i].X:>8.3f} | \"\n",
    "          f\"{x_charging[i].X:>11.3f} | \"\n",
    "          f\"{x_discharging[i].X:>13.3f}\")"
   ]
  }
 ],
 "metadata": {
  "kernelspec": {
   "display_name": "integrated-energy-grids",
   "language": "python",
   "name": "python3"
  },
  "language_info": {
   "codemirror_mode": {
    "name": "ipython",
    "version": 3
   },
   "file_extension": ".py",
   "mimetype": "text/x-python",
   "name": "python",
   "nbconvert_exporter": "python",
   "pygments_lexer": "ipython3",
   "version": "3.11.12"
  }
 },
 "nbformat": 4,
 "nbformat_minor": 5
}
